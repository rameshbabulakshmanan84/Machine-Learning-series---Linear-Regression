{
 "cells": [
  {
   "cell_type": "code",
   "execution_count": 3,
   "metadata": {},
   "outputs": [],
   "source": [
    "#linear regresson\n",
    "#import libraries\n",
    "import pandas as pd\n",
    "import numpy as np\n",
    "import matplotlib.pyplot as plt\n",
    "import os\n",
    "import random"
   ]
  },
  {
   "cell_type": "code",
   "execution_count": 4,
   "metadata": {},
   "outputs": [
    {
     "name": "stdout",
     "output_type": "stream",
     "text": [
      "C:\\Users\\BrindhaM\\Documents\\CelStrat MlL\\My Site\\Gradient Descent\n"
     ]
    }
   ],
   "source": [
    "print(os.getcwd())"
   ]
  },
  {
   "cell_type": "code",
   "execution_count": 20,
   "metadata": {},
   "outputs": [
    {
     "name": "stdout",
     "output_type": "stream",
     "text": [
      "(100,)\n",
      "100\n"
     ]
    }
   ],
   "source": [
    "#Create a random data for X and Y\n",
    "#function to generate Y based on X \n",
    "#\n",
    "def create_y(x):\n",
    "    res = x*5 + 3 + np.random.randn(len(x)).reshape((len(x),1))*0.3\n",
    "    return res\n",
    "#create random 100 numbrs between 1 and 500.\n",
    "X=np.random.uniform(0,500,100) \n",
    "#Print the shape and size of X\n",
    "print(X.shape)\n",
    "#Print the size\n",
    "print(len(X))"
   ]
  },
  {
   "cell_type": "code",
   "execution_count": 23,
   "metadata": {},
   "outputs": [
    {
     "name": "stdout",
     "output_type": "stream",
     "text": [
      "(100, 1)\n",
      "100\n"
     ]
    }
   ],
   "source": [
    "#Reshape the data so that LR.fit doesnt have issues.(It expects 2 d input)\n",
    "X=X.reshape(100,1)\n",
    "#print the shape and size of X\n",
    "#Print the shape and size of X\n",
    "print(X.shape)\n",
    "#Print the size\n",
    "print(len(X))"
   ]
  },
  {
   "cell_type": "code",
   "execution_count": 25,
   "metadata": {},
   "outputs": [
    {
     "name": "stdout",
     "output_type": "stream",
     "text": [
      "(100, 1)\n",
      "100\n"
     ]
    }
   ],
   "source": [
    "#Create Y\n",
    "Y=create_y(X)\n",
    "#Prin the shape and size of Y\n",
    "print(Y.shape)\n",
    "#Print the size\n",
    "print(len(Y))"
   ]
  },
  {
   "cell_type": "code",
   "execution_count": 27,
   "metadata": {},
   "outputs": [],
   "source": [
    "#Split th data into train and test data\n",
    "from sklearn.model_selection import train_test_split\n",
    "X_Train,X_Test,Y_Train,Y_Test=train_test_split(X,Y,test_size=0.3)"
   ]
  },
  {
   "cell_type": "code",
   "execution_count": 28,
   "metadata": {},
   "outputs": [
    {
     "data": {
      "text/plain": [
       "LinearRegression(copy_X=True, fit_intercept=True, n_jobs=1, normalize=False)"
      ]
     },
     "execution_count": 28,
     "metadata": {},
     "output_type": "execute_result"
    }
   ],
   "source": [
    "from sklearn.linear_model import LinearRegression\n",
    "LR=LinearRegression()\n",
    "#fit the training data\n",
    "LR.fit(X_Train,Y_Train)"
   ]
  },
  {
   "cell_type": "code",
   "execution_count": 29,
   "metadata": {},
   "outputs": [
    {
     "name": "stdout",
     "output_type": "stream",
     "text": [
      "y=[3.00855289]+[4.99981688]*x\n"
     ]
    }
   ],
   "source": [
    "#Retrieve the coeffiecients and the intercept\n",
    "m=LR.coef_[0]\n",
    "b=LR.intercept_\n",
    "\n",
    "#Print the linear equation\n",
    "print('y={0}+{1}*x'.format(b,m))"
   ]
  },
  {
   "cell_type": "code",
   "execution_count": 32,
   "metadata": {},
   "outputs": [
    {
     "data": {
      "image/png": "[encoded data removed]",
      "text/plain": [
       "<matplotlib.figure.Figure at 0x1da6ad40d30>"
      ]
     },
     "metadata": {
      "needs_background": "light"
     },
     "output_type": "display_data"
    }
   ],
   "source": [
    "#Plot the curve\n",
    "plt.scatter(X,Y,color='k')\n",
    "\n",
    "min_x=np.min(X)\n",
    "max_x=np.max(X)\n",
    "plt.plot([min_x,max_x],[b,m*max_x+b])\n",
    "plt.title('Linear Regression')\n",
    "plt.xlabel('x')\n",
    "plt.ylabel('y')\n",
    "plt.show()"
   ]
  },
  {
   "cell_type": "code",
   "execution_count": 36,
   "metadata": {},
   "outputs": [
    {
     "name": "stdout",
     "output_type": "stream",
     "text": [
      "MSE 0.09094373737990022\n"
     ]
    }
   ],
   "source": [
    "#Print the variance score\n",
    "#Take the difference of ytest and Prediction,squre it and take the mean of the same\n",
    "MSE=np.mean((Y_Test-LR.predict(X_Test))**2)\n",
    "print(\"MSE\",MSE)"
   ]
  },
  {
   "cell_type": "code",
   "execution_count": 38,
   "metadata": {},
   "outputs": [
    {
     "name": "stdout",
     "output_type": "stream",
     "text": [
      "Varience score -57.150475979991086\n"
     ]
    }
   ],
   "source": [
    "#Print the variance score\n",
    "Variance=LR.score(Y_Test,LR.predict(X_Test))\n",
    "print(\"Varience score\",Variance)"
   ]
  },
  {
   "cell_type": "code",
   "execution_count": 40,
   "metadata": {},
   "outputs": [
    {
     "name": "stdout",
     "output_type": "stream",
     "text": [
      "r2 score 0.9999998584202249\n"
     ]
    }
   ],
   "source": [
    "#get the r2 score\n",
    "from sklearn.metrics import r2_score\n",
    "print(\"r2 score\",r2_score(Y_Test,LR.predict(X_Test)))\n",
    "#The result implies its near perfect correlation"
   ]
  },
  {
   "cell_type": "raw",
   "metadata": {},
   "source": [
    "#reshape"
   ]
  }
 ],
 "metadata": {
  "kernelspec": {
   "display_name": "Python 3",
   "language": "python",
   "name": "python3"
  },
  "language_info": {
   "codemirror_mode": {
    "name": "ipython",
    "version": 3
   },
   "file_extension": ".py",
   "mimetype": "text/x-python",
   "name": "python",
   "nbconvert_exporter": "python",
   "pygments_lexer": "ipython3",
   "version": "3.6.4"
  }
 },
 "nbformat": 4,
 "nbformat_minor": 2
}
